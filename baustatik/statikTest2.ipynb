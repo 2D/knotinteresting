{
 "cells": [
  {
   "cell_type": "markdown",
   "metadata": {},
   "source": [
    "# 1\n",
    "\n",
    "We are given the following system of differential equations:\n",
    "\n",
    "dV/dx = -q\n",
    "\n",
    "dM/dx = V\n",
    "\n",
    "To solve this system, we can start by integrating the first equation with respect to x:\n",
    "\n",
    "∫ dV/dx dx = -∫ q dx\n",
    "\n",
    "V = -qx + C1\n",
    "\n",
    "where C1 is a constant of integration.\n",
    "\n",
    "Next, we can substitute this expression for V into the second equation:\n",
    "\n",
    "dM/dx = V\n",
    "\n",
    "dM/dx = -qx + C1\n",
    "\n",
    "Integrating both sides with respect to x, we get:\n",
    "\n",
    "∫ dM/dx dx = ∫ (-q*x + C1) dx\n",
    "\n",
    "M = -0.5*q*x^2 + C1*x + C2\n",
    "\n",
    "where C2 is another constant of integration.\n",
    "\n",
    "Therefore, the solution to the system of differential equations is:\n",
    "\n",
    "V = -q*x + C1\n",
    "\n",
    "M = -0.5*q*x^2 + C1*x + C2\n",
    "\n",
    "where C1 and C2 are constants of integration that can be determined from any initial conditions given for the problem.\n",
    "\n",
    "# 2\n",
    "M(x=0) = 0\n",
    "\n",
    "M(x=1) = 0\n",
    "\n",
    "Using these conditions, we can solve for C1 and C2:\n",
    "\n",
    "From the equation for M, we have:\n",
    "\n",
    "M = -0.5*q*x^2 + C1*x + C2\n",
    "\n",
    "Substituting x=0 and M=0, we get:\n",
    "\n",
    "0 = -0.5*q(0)^2 + C1(0) + C2\n",
    "\n",
    "C2 = 0\n",
    "\n",
    "Substituting x=1 and M=0, we get:\n",
    "\n",
    "0 = -0.5*q(1)^2 + C1(1) + C2\n",
    "\n",
    "0 = -0.5*q + C1\n",
    "\n",
    "C1 = 0.5*q\n",
    "\n",
    "Therefore, the solution to the system of differential equations with the given initial conditions is:\n",
    "\n",
    "V = -q*x + 0.5*q\n",
    "\n",
    "M = -0.5*q*x^2 + 0.5*q*x\n",
    "\n",
    "where q is a constant."
   ]
  },
  {
   "cell_type": "code",
   "execution_count": 1,
   "metadata": {},
   "outputs": [
    {
     "name": "stdout",
     "output_type": "stream",
     "text": [
      "At x=0.5, M=0.09375 and V=0\n"
     ]
    }
   ],
   "source": [
    "import numpy as np\n",
    "\n",
    "def compute_M_V(x, q):\n",
    "    \"\"\"\n",
    "    Computes M and V at a specific x value.\n",
    "\n",
    "    Args:\n",
    "        x: The value of x at which to compute M and V.\n",
    "        q: The value of the constant q.\n",
    "\n",
    "    Returns:\n",
    "        A tuple (M, V) containing the computed values of M and V.\n",
    "    \"\"\"\n",
    "    V = 0\n",
    "    M = -q/8 * x**2 + q/8\n",
    "    return M, V\n",
    "\n",
    "# Example usage:\n",
    "x = 0.5\n",
    "q = 1.0\n",
    "M, V = compute_M_V(x, q)\n",
    "print(f\"At x={x}, M={M} and V={V}\")"
   ]
  },
  {
   "cell_type": "markdown",
   "metadata": {},
   "source": [
    "dV/dx = -q = 1 (as q(x) = -1)\n",
    "\n",
    "dM/dx = V\n",
    "\n",
    "∫ dV/dx dx = ∫ -q dx\n",
    "\n",
    "V = -x + C1 (where C1 is the constant of integration)\n",
    "\n",
    "dM/dx = -x + C1\n",
    "\n",
    "∫ dM = ∫ (-x + C1) dx\n",
    "\n",
    "M = -x^2/2 + C1x + C2 (where C2 is the constant of integration)\n",
    "\n",
    "\n",
    "### DE solution\n",
    "V = -x + C1\n",
    "\n",
    "M = -x^2/2 + C1x + C2\n",
    "\n",
    "where C1 and C2 are initial conditions constants\n",
    "\n",
    "let M(x=0)=0 and M(x=1)=0\n",
    "\n",
    "M(x=0) = 0 => C2 = 0\n",
    "\n",
    "M(x=1) = 0 => -1/2 + C1 + C2 = 0 => C1 = 0.5\n",
    "\n",
    "V(x) = -x + 1/2\n",
    "\n",
    "M(x) = -x^2/2 + 1/2*x\n"
   ]
  },
  {
   "cell_type": "code",
   "execution_count": 26,
   "metadata": {},
   "outputs": [
    {
     "name": "stdout",
     "output_type": "stream",
     "text": [
      "V=0.5 and M=0.0 at x = 0.0\n",
      "V=0.4 and M=0.045 at x = 0.1\n",
      "V=0.3 and M=0.08 at x = 0.2\n",
      "V=0.2 and M=0.105 at x = 0.3\n",
      "V=0.09999999999999998 and M=0.12 at x = 0.4\n",
      "V=0.0 and M=0.125 at x = 0.5\n",
      "V=-0.09999999999999998 and M=0.12 at x = 0.6\n",
      "V=-0.19999999999999996 and M=0.10500000000000001 at x = 0.7\n",
      "V=-0.30000000000000004 and M=0.07999999999999996 at x = 0.8\n",
      "V=-0.4 and M=0.044999999999999984 at x = 0.9\n"
     ]
    }
   ],
   "source": [
    "for x in range(0,10,1):\n",
    "    x=x/10.0\n",
    "    V = -x + 1/2\n",
    "    M = -x**2/2 + 1/2*x\n",
    "    \n",
    "    print(\"V=%s and M=%s at x = %s\" % (V,M,x))\n"
   ]
  },
  {
   "cell_type": "code",
   "execution_count": 27,
   "metadata": {},
   "outputs": [
    {
     "name": "stdout",
     "output_type": "stream",
     "text": [
      "At x = 0 ; V[0] = -0.5 ; M[0] = 0.0\n",
      "At x = 1 ; V[0] = -0.4 ; M[0] = -0.045\n",
      "At x = 2 ; V[0] = -0.3 ; M[0] = -0.08\n",
      "At x = 3 ; V[0] = -0.2 ; M[0] = -0.105\n",
      "At x = 4 ; V[0] = -0.1 ; M[0] = -0.12\n",
      "At x = 5 ; V[0] = 0.0 ; M[0] = -0.125\n",
      "At x = 6 ; V[0] = 0.1 ; M[0] = -0.12\n",
      "At x = 7 ; V[0] = 0.2 ; M[0] = -0.105\n",
      "At x = 8 ; V[0] = 0.3 ; M[0] = -0.08\n",
      "At x = 9 ; V[0] = 0.4 ; M[0] = -0.045\n",
      "At x = 10 ; V[0] = 0.5 ; M[0] = 0.0\n",
      "\n"
     ]
    },
    {
     "data": {
      "image/png": "[encoded data removed]",
      "text/plain": [
       "<Figure size 432x288 with 1 Axes>"
      ]
     },
     "metadata": {
      "needs_background": "light"
     },
     "output_type": "display_data"
    }
   ],
   "source": [
    "import numpy as np\n",
    "import matplotlib.pyplot as plt\n",
    "from scipy.integrate import odeint\n",
    "\n",
    "# Define the function that returns the derivatives of V and M\n",
    "def derivatives(y, x, q):\n",
    "    # y[0] = V, y[1] = M\n",
    "    dydx = [-q, y[0]]\n",
    "    return dydx\n",
    "\n",
    "# Define the constants and initial conditions\n",
    "q = -1.0\n",
    "y0 = [0.5 * q, 0.0] # V(0) = 0.5*q, M(0) = 0.0\n",
    "x_end = 1.0\n",
    "\n",
    "# Create an array of x values\n",
    "x_values = np.linspace(0, x_end, 11)\n",
    "\n",
    "# Solve the system of differential equations using odeint\n",
    "sol = odeint(derivatives, y0, x_values, args=(q,))\n",
    "\n",
    "# Extract the solutions for V and M from the solution array\n",
    "V_values = sol[:, 0]\n",
    "M_values = sol[:, 1]\n",
    "\n",
    "count=0\n",
    "\n",
    "for i,j in sol:\n",
    "    #V is the shear force and M is bending moment \n",
    "    print (\"At x = %s ; V[0] = %s ; M[0] = %s\" % ( count, round(i,3), round(j,6) ) )\n",
    "    count += 1\n",
    "    \n",
    "print()\n",
    "\n",
    "# Plot the solutions\n",
    "plt.plot(x_values, V_values, label='V(x)')\n",
    "plt.plot(x_values, M_values, label='M(x)')\n",
    "\n",
    "# Add labels and legend to the plot\n",
    "plt.xlabel('x')\n",
    "plt.ylabel('Solution')\n",
    "plt.title('Solution to System of Differential Equations')\n",
    "plt.legend()\n",
    "\n",
    "# Show the plot\n",
    "plt.show()"
   ]
  },
  {
   "cell_type": "code",
   "execution_count": null,
   "metadata": {},
   "outputs": [],
   "source": []
  }
 ],
 "metadata": {
  "kernelspec": {
   "display_name": "Python 3",
   "language": "python",
   "name": "python3"
  },
  "language_info": {
   "codemirror_mode": {
    "name": "ipython",
    "version": 3
   },
   "file_extension": ".py",
   "mimetype": "text/x-python",
   "name": "python",
   "nbconvert_exporter": "python",
   "pygments_lexer": "ipython3",
   "version": "3.7.6"
  }
 },
 "nbformat": 4,
 "nbformat_minor": 4
}
